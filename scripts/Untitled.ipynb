{
 "cells": [
  {
   "cell_type": "code",
   "execution_count": 2,
   "id": "da0248c6-92e4-4ebb-aa8e-04d8a4f1a799",
   "metadata": {},
   "outputs": [
    {
     "name": "stdout",
     "output_type": "stream",
     "text": [
      "0 0\n",
      "0 512\n",
      "0 1024\n",
      "0 1536\n",
      "512 0\n",
      "512 512\n",
      "512 1024\n",
      "512 1536\n",
      "1024 0\n",
      "1024 512\n",
      "1024 1024\n",
      "1024 1536\n",
      "1536 0\n",
      "1536 512\n",
      "1536 1024\n",
      "1536 1536\n"
     ]
    }
   ],
   "source": [
    "for top in range(0, 2048, 512):\n",
    "        for left in range(0, 2048, 512):\n",
    "            print(top, left)"
   ]
  },
  {
   "cell_type": "code",
   "execution_count": null,
   "id": "c98f2631-7932-4bd3-bbfd-314414df4916",
   "metadata": {},
   "outputs": [],
   "source": [
    "'../datasets/FIVES/512/'"
   ]
  },
  {
   "cell_type": "code",
   "execution_count": 12,
   "id": "79bb50ce-dbcb-4c2a-80f2-7e53211e917a",
   "metadata": {},
   "outputs": [
    {
     "data": {
      "text/plain": [
       "0"
      ]
     },
     "execution_count": 12,
     "metadata": {},
     "output_type": "execute_result"
    }
   ],
   "source": [
    "from PIL import Image\n",
    "mask_name = '../datasets/FIVES/512/train/Groundtruth/10_A_tile_0.png'\n",
    "mask = Image.open(mask_name).convert(\"L\")\n",
    "np.array(mask).min()"
   ]
  },
  {
   "cell_type": "code",
   "execution_count": 14,
   "id": "61ac91a5-3024-4071-8cb3-2a312aafc8f5",
   "metadata": {},
   "outputs": [],
   "source": [
    "mask = mask.point(lambda x: 255 if x>100 else 0).convert('1')"
   ]
  },
  {
   "cell_type": "code",
   "execution_count": 15,
   "id": "c44f5b63-587a-49d2-86e8-2ff5c4f4a1cd",
   "metadata": {},
   "outputs": [
    {
     "data": {
      "text/plain": [
       "False"
      ]
     },
     "execution_count": 15,
     "metadata": {},
     "output_type": "execute_result"
    }
   ],
   "source": [
    "import numpy as np\n",
    "np.array(mask).min()"
   ]
  }
 ],
 "metadata": {
  "kernelspec": {
   "display_name": "Python 3 (ipykernel)",
   "language": "python",
   "name": "python3"
  },
  "language_info": {
   "codemirror_mode": {
    "name": "ipython",
    "version": 3
   },
   "file_extension": ".py",
   "mimetype": "text/x-python",
   "name": "python",
   "nbconvert_exporter": "python",
   "pygments_lexer": "ipython3",
   "version": "3.10.15"
  }
 },
 "nbformat": 4,
 "nbformat_minor": 5
}
